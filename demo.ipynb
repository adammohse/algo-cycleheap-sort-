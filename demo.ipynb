{
 "cells": [
  {
   "cell_type": "markdown",
   "id": "60f31994",
   "metadata": {},
   "source": [
    "# CycleHeap Sort Demo\n",
    "This notebook demonstrates how to use the CycleHeap Adaptive Stable Sort algorithm."
   ]
  },
  {
   "cell_type": "code",
   "execution_count": null,
   "id": "5c762b2d",
   "metadata": {},
   "outputs": [],
   "source": [
    "\n",
    "import pandas as pd\n",
    "from cycleheap_sort import cycleheap_adaptive_stable_sort\n",
    "\n",
    "# Sample dataset\n",
    "df = pd.DataFrame({\n",
    "    'company_id': [4, 2, 3, 1, 2],\n",
    "    'timestamp': [300, 100, 200, 400, 150]\n",
    "})\n",
    "\n",
    "print(\"Original Data:\")\n",
    "print(df)\n"
   ]
  },
  {
   "cell_type": "code",
   "execution_count": null,
   "id": "b45e43df",
   "metadata": {},
   "outputs": [],
   "source": [
    "\n",
    "# Apply the CycleHeap Adaptive Stable Sort\n",
    "sorted_df = cycleheap_adaptive_stable_sort(df, 'company_id', 'timestamp')\n",
    "\n",
    "print(\"Sorted Data:\")\n",
    "print(sorted_df)\n"
   ]
  },
  {
   "cell_type": "markdown",
   "id": "080994d4",
   "metadata": {},
   "source": [
    "You can modify the dataset and test the sort with different key columns!"
   ]
  }
 ],
 "metadata": {},
 "nbformat": 4,
 "nbformat_minor": 5
}